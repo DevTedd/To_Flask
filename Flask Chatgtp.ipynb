{
 "cells": [
  {
   "cell_type": "code",
   "execution_count": 1,
   "metadata": {},
   "outputs": [
    {
     "name": "stdout",
     "output_type": "stream",
     "text": [
      " * Serving Flask app '__main__'\n",
      " * Debug mode: on\n"
     ]
    },
    {
     "name": "stderr",
     "output_type": "stream",
     "text": [
      "WARNING: This is a development server. Do not use it in a production deployment. Use a production WSGI server instead.\n",
      " * Running on http://127.0.0.1:5000\n",
      "Press CTRL+C to quit\n",
      " * Restarting with stat\n"
     ]
    },
    {
     "ename": "SystemExit",
     "evalue": "1",
     "output_type": "error",
     "traceback": [
      "An exception has occurred, use %tb to see the full traceback.\n",
      "\u001b[1;31mSystemExit\u001b[0m\u001b[1;31m:\u001b[0m 1\n"
     ]
    },
    {
     "name": "stderr",
     "output_type": "stream",
     "text": [
      "C:\\Users\\tkmwangi\\AppData\\Roaming\\Python\\Python310\\site-packages\\IPython\\core\\interactiveshell.py:3513: UserWarning: To exit: use 'exit', 'quit', or Ctrl-D.\n",
      "  warn(\"To exit: use 'exit', 'quit', or Ctrl-D.\", stacklevel=1)\n"
     ]
    }
   ],
   "source": [
    "from flask import Flask, render_template, request, send_file\n",
    "import pandas as pd\n",
    "import io\n",
    "\n",
    "app = Flask(__name__)\n",
    "\n",
    "# Define the homepage route\n",
    "@app.route('/')\n",
    "def index():\n",
    "    return render_template('index.html')\n",
    "\n",
    "# Define the file upload route\n",
    "@app.route('/upload', methods=['POST'])\n",
    "def upload():\n",
    "    # Get the uploaded file\n",
    "    uploaded_file = request.files['file']\n",
    "    \n",
    "    # Load the file into a Pandas dataframe\n",
    "    df = pd.read_excel(uploaded_file)\n",
    "    \n",
    "    # Perform the required transformations\n",
    "    # For example, rename columns and drop rows with null values\n",
    "    df.columns = ['New Column Name 1', 'New Column Name 2']\n",
    "    df.dropna(inplace=True)\n",
    "    \n",
    "    # Generate the two output Excel files\n",
    "    # For example, split the dataframe into two smaller dataframes\n",
    "    df1 = df.iloc[:len(df)//2, :]\n",
    "    df2 = df.iloc[len(df)//2:, :]\n",
    "    \n",
    "    # Convert the dataframes to Excel files\n",
    "    output_file1 = io.BytesIO()\n",
    "    output_file2 = io.BytesIO()\n",
    "    writer = pd.ExcelWriter(output_file1, engine='xlsxwriter')\n",
    "    df1.to_excel(writer, index=False)\n",
    "    writer.save()\n",
    "    writer = pd.ExcelWriter(output_file2, engine='xlsxwriter')\n",
    "    df2.to_excel(writer, index=False)\n",
    "    writer.save()\n",
    "    \n",
    "    # Return the output Excel files to the user\n",
    "    output_file1.seek(0)\n",
    "    output_file2.seek(0)\n",
    "    return send_file(output_file1, mimetype='application/vnd.openxmlformats-officedocument.spreadsheetml.sheet', attachment_filename='output1.xlsx', as_attachment=True), send_file(output_file2, mimetype='application/vnd.openxmlformats-officedocument.spreadsheetml.sheet', attachment_filename='output2.xlsx', as_attachment=True)\n",
    "\n",
    "if __name__ == '__main__':\n",
    "    app.run(debug=True)\n"
   ]
  },
  {
   "cell_type": "code",
   "execution_count": null,
   "metadata": {},
   "outputs": [],
   "source": []
  }
 ],
 "metadata": {
  "kernelspec": {
   "display_name": "Python 3",
   "language": "python",
   "name": "python3"
  },
  "language_info": {
   "codemirror_mode": {
    "name": "ipython",
    "version": 3
   },
   "file_extension": ".py",
   "mimetype": "text/x-python",
   "name": "python",
   "nbconvert_exporter": "python",
   "pygments_lexer": "ipython3",
   "version": "3.10.11"
  },
  "orig_nbformat": 4
 },
 "nbformat": 4,
 "nbformat_minor": 2
}
